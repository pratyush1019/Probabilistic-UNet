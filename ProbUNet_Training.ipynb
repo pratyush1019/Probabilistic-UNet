{
  "nbformat": 4,
  "nbformat_minor": 0,
  "metadata": {
    "colab": {
      "name": "PUNet.ipynb",
      "provenance": [],
      "collapsed_sections": [],
      "machine_shape": "hm"
    },
    "kernelspec": {
      "name": "python3",
      "display_name": "Python 3"
    },
    "accelerator": "GPU"
  },
  "cells": [
    {
      "cell_type": "code",
      "metadata": {
        "id": "iTPm3f0pkxkI",
        "colab_type": "code",
        "outputId": "c18940a4-b612-4998-91f4-5e8704e4c164",
        "colab": {
          "base_uri": "https://localhost:8080/",
          "height": 171
        }
      },
      "source": [
        "on_google_colab = True\n",
        "if on_google_colab:\n",
        "  from google.colab import drive\n",
        "  drive.mount('/content/drive')\n",
        "  !ls '/content/drive/My Drive'"
      ],
      "execution_count": 5,
      "outputs": [
        {
          "output_type": "stream",
          "text": [
            "Go to this URL in a browser: https://accounts.google.com/o/oauth2/auth?client_id=947318989803-6bn6qk8qdgf4n4g3pfee6491hc0brc4i.apps.googleusercontent.com&redirect_uri=urn%3aietf%3awg%3aoauth%3a2.0%3aoob&response_type=code&scope=email%20https%3a%2f%2fwww.googleapis.com%2fauth%2fdocs.test%20https%3a%2f%2fwww.googleapis.com%2fauth%2fdrive%20https%3a%2f%2fwww.googleapis.com%2fauth%2fdrive.photos.readonly%20https%3a%2f%2fwww.googleapis.com%2fauth%2fpeopleapi.readonly\n",
            "\n",
            "Enter your authorization code:\n",
            "··········\n",
            "Mounted at /content/drive\n",
            " Classroom\t   'Getting started.pdf'\t\t       tub\n",
            "'Colab Notebooks'  'New Doc 2020-01-23 12.55.46 (1).pdf.pdf'   tub.zip\n",
            " data_lidc.pickle  'New Doc 2020-01-23 12.55.46.pdf.pdf'       vrinda_aarhus\n"
          ],
          "name": "stdout"
        }
      ]
    },
    {
      "cell_type": "code",
      "metadata": {
        "id": "NkEufWFIETr9",
        "colab_type": "code",
        "colab": {}
      },
      "source": [
        "import torch\n",
        "import numpy as np\n",
        "from torch.utils.data import DataLoader\n",
        "from torch.utils.data.sampler import SubsetRandomSampler"
      ],
      "execution_count": 0,
      "outputs": []
    },
    {
      "cell_type": "code",
      "metadata": {
        "id": "kfsYl9NTJ-wp",
        "colab_type": "code",
        "outputId": "ca41f97e-452e-4194-fce0-78de632640f4",
        "colab": {
          "base_uri": "https://localhost:8080/",
          "height": 121
        }
      },
      "source": [
        "!pip install pydicom"
      ],
      "execution_count": 3,
      "outputs": [
        {
          "output_type": "stream",
          "text": [
            "Collecting pydicom\n",
            "\u001b[?25l  Downloading https://files.pythonhosted.org/packages/53/e6/4cae2b4b2fdbea5e2ddd188361139606d8f10f710ba1abecd6600da099c3/pydicom-1.4.2-py2.py3-none-any.whl (35.3MB)\n",
            "\u001b[K     |████████████████████████████████| 35.3MB 89kB/s \n",
            "\u001b[?25hInstalling collected packages: pydicom\n",
            "Successfully installed pydicom-1.4.2\n"
          ],
          "name": "stdout"
        }
      ]
    },
    {
      "cell_type": "code",
      "metadata": {
        "id": "j9gwC6Z6mnk9",
        "colab_type": "code",
        "outputId": "6e6d2f42-91a9-4283-c311-926bc1cc0efa",
        "colab": {
          "base_uri": "https://localhost:8080/",
          "height": 50
        }
      },
      "source": [
        "from load_LIDC_data import LIDC_IDRI\n",
        "\n",
        "device = torch.device('cuda' if torch.cuda.is_available() else 'cpu')\n",
        "train_dataset = LIDC_IDRI(dataset_location = '/content/drive/My Drive/')\n",
        "# test_dataset = LIDC_IDRI(dataset_location = '/content/drive/My Drive/', training=False)\n",
        "dataset_size = len(train_dataset)\n",
        "indices = list(range(dataset_size))\n",
        "split = int(np.floor(0.1 * dataset_size))\n",
        "np.random.shuffle(indices)\n",
        "train_indices, test_indices = indices[split:], indices[:split]\n",
        "train_sampler = SubsetRandomSampler(train_indices)\n",
        "test_sampler = SubsetRandomSampler(test_indices)\n",
        "train_loader = DataLoader(train_dataset, batch_size=8, sampler=train_sampler)\n",
        "test_loader = DataLoader(train_dataset, batch_size=1, sampler=test_sampler)\n",
        "print(\"Number of training/test patches:\", (len(train_indices),len(test_indices)))"
      ],
      "execution_count": 6,
      "outputs": [
        {
          "output_type": "stream",
          "text": [
            "Loading file data_lidc.pickle\n",
            "Number of training/test patches: (13587, 1509)\n"
          ],
          "name": "stdout"
        }
      ]
    },
    {
      "cell_type": "code",
      "metadata": {
        "id": "Y6zUvWppzDQJ",
        "colab_type": "code",
        "colab": {}
      },
      "source": [
        "from importlib import reload\n",
        "import model\n",
        "# reload(model)\n",
        "\n",
        "net = model.ProbU_Net(in_channels=1, out_channels=1, latent_dim=6)\n",
        "net.to(device)\n",
        "optimizer = torch.optim.Adam(net.parameters())"
      ],
      "execution_count": 0,
      "outputs": []
    },
    {
      "cell_type": "code",
      "metadata": {
        "id": "69HbCPnynYMd",
        "colab_type": "code",
        "outputId": "b8d04baa-f704-4e5f-ddde-c885b415186e",
        "colab": {
          "base_uri": "https://localhost:8080/",
          "height": 1000
        }
      },
      "source": [
        "loss_history = []\n",
        "import random\n",
        "for epoch in range(15):\n",
        "    train_loss = 0.0\n",
        "    for step, (patch, mask, _) in enumerate(train_loader):\n",
        "        # print(mask.shape) \n",
        "        mask = mask[:,random.randint(0,3),:,:]\n",
        "        patch = patch.to(device)\n",
        "        mask = mask.to(device)\n",
        "        mask = torch.unsqueeze(mask,1)\n",
        "        net.forward(patch, mask, train=True)\n",
        "        loss = net.loss(mask, beta=10.0)\n",
        "        x = loss.item()\n",
        "        train_loss += x\n",
        "        if (step%100==0):\n",
        "          print('(%d, %5d) item-loss: %.9f'%(epoch + 1, step + 1, x))\n",
        "        optimizer.zero_grad()\n",
        "        loss.backward()\n",
        "        optimizer.step()\n",
        "    print('[%d] epoch-loss: %.9f'%(epoch + 1, train_loss))\n",
        "    loss_history.append(train_loss)\n",
        "print('Finished Training')"
      ],
      "execution_count": 0,
      "outputs": [
        {
          "output_type": "stream",
          "text": [
            "(1,     1) item-loss: 8.423168182\n",
            "(1,   101) item-loss: 0.446951568\n",
            "(1,   201) item-loss: 0.203137428\n",
            "(1,   301) item-loss: 0.267424643\n",
            "(1,   401) item-loss: 0.189708248\n",
            "(1,   501) item-loss: 0.441613406\n",
            "(1,   601) item-loss: 0.095321514\n",
            "(1,   701) item-loss: 0.253150612\n",
            "(1,   801) item-loss: 0.081776738\n",
            "(1,   901) item-loss: 0.097086750\n",
            "(1,  1001) item-loss: 0.053719301\n",
            "(1,  1101) item-loss: 0.076006450\n",
            "(1,  1201) item-loss: 0.116413131\n",
            "(1,  1301) item-loss: 0.280113518\n",
            "(1,  1401) item-loss: 0.208951876\n",
            "(1,  1501) item-loss: 0.176974133\n",
            "(1,  1601) item-loss: 0.047725007\n",
            "[1] epoch-loss: 574.763042245\n",
            "(2,     1) item-loss: 0.045435417\n",
            "(2,   101) item-loss: 0.039208435\n",
            "(2,   201) item-loss: 0.229567215\n",
            "(2,   301) item-loss: 0.073127829\n",
            "(2,   401) item-loss: 0.090360768\n",
            "(2,   501) item-loss: 0.062274136\n",
            "(2,   601) item-loss: 0.065386832\n",
            "(2,   701) item-loss: 0.141716778\n",
            "(2,   801) item-loss: 0.051304519\n",
            "(2,   901) item-loss: 0.077240884\n",
            "(2,  1001) item-loss: 0.045262840\n",
            "(2,  1101) item-loss: 0.061317451\n",
            "(2,  1201) item-loss: 0.078588158\n",
            "(2,  1301) item-loss: 0.035829425\n",
            "(2,  1401) item-loss: 0.187735513\n",
            "(2,  1501) item-loss: 0.027720556\n",
            "(2,  1601) item-loss: 0.025958234\n",
            "[2] epoch-loss: 148.889530175\n",
            "(3,     1) item-loss: 0.082660079\n",
            "(3,   101) item-loss: 0.029735377\n",
            "(3,   201) item-loss: 0.041425649\n",
            "(3,   301) item-loss: 0.132148534\n",
            "(3,   401) item-loss: 0.021738401\n",
            "(3,   501) item-loss: 0.061905053\n",
            "(3,   601) item-loss: 0.051427800\n",
            "(3,   701) item-loss: 0.037987348\n",
            "(3,   801) item-loss: 0.090760440\n",
            "(3,   901) item-loss: 0.077215299\n",
            "(3,  1001) item-loss: 0.045929376\n",
            "(3,  1101) item-loss: 0.158281446\n",
            "(3,  1201) item-loss: 0.078771576\n",
            "(3,  1301) item-loss: 0.067477331\n",
            "(3,  1401) item-loss: 0.055438224\n",
            "(3,  1501) item-loss: 0.075594760\n",
            "(3,  1601) item-loss: 0.020069093\n",
            "[3] epoch-loss: 116.945162323\n",
            "(4,     1) item-loss: 0.180380449\n",
            "(4,   101) item-loss: 0.022878163\n",
            "(4,   201) item-loss: 0.099226333\n",
            "(4,   301) item-loss: 0.045633309\n",
            "(4,   401) item-loss: 0.079178743\n",
            "(4,   501) item-loss: 0.056015715\n",
            "(4,   601) item-loss: 0.051284418\n",
            "(4,   701) item-loss: 0.033183053\n",
            "(4,   801) item-loss: 0.090823494\n",
            "(4,   901) item-loss: 0.054553837\n",
            "(4,  1001) item-loss: 0.047826476\n",
            "(4,  1101) item-loss: 0.160262942\n",
            "(4,  1201) item-loss: 0.014308888\n",
            "(4,  1301) item-loss: 0.092724241\n",
            "(4,  1401) item-loss: 0.033725753\n",
            "(4,  1501) item-loss: 0.085910402\n",
            "(4,  1601) item-loss: 0.021508334\n",
            "[4] epoch-loss: 104.334915326\n",
            "(5,     1) item-loss: 0.028059453\n",
            "(5,   101) item-loss: 0.068875991\n",
            "(5,   201) item-loss: 0.050227512\n",
            "(5,   301) item-loss: 0.045416549\n",
            "(5,   401) item-loss: 0.116837189\n",
            "(5,   501) item-loss: 0.079171583\n",
            "(5,   601) item-loss: 0.067992270\n",
            "(5,   701) item-loss: 0.052809805\n",
            "(5,   801) item-loss: 0.021638371\n",
            "(5,   901) item-loss: 0.009200720\n",
            "(5,  1001) item-loss: 0.042983424\n",
            "(5,  1101) item-loss: 0.083611406\n",
            "(5,  1201) item-loss: 0.021751754\n",
            "(5,  1301) item-loss: 0.057059735\n",
            "(5,  1401) item-loss: 0.016813163\n",
            "(5,  1501) item-loss: 0.089599527\n",
            "(5,  1601) item-loss: 0.033700686\n",
            "[5] epoch-loss: 95.791111686\n",
            "(6,     1) item-loss: 0.095559455\n",
            "(6,   101) item-loss: 0.035799090\n",
            "(6,   201) item-loss: 0.091323413\n",
            "(6,   301) item-loss: 0.034382615\n",
            "(6,   401) item-loss: 0.051973272\n",
            "(6,   501) item-loss: 0.009575201\n",
            "(6,   601) item-loss: 0.055525079\n",
            "(6,   701) item-loss: 0.032304965\n",
            "(6,   801) item-loss: 0.069143213\n",
            "(6,   901) item-loss: 0.027948877\n",
            "(6,  1001) item-loss: 0.132545963\n",
            "(6,  1101) item-loss: 0.053899392\n",
            "(6,  1201) item-loss: 0.030821482\n",
            "(6,  1301) item-loss: 0.020686198\n",
            "(6,  1401) item-loss: 0.033958584\n",
            "(6,  1501) item-loss: 0.008262235\n",
            "(6,  1601) item-loss: 0.132919207\n",
            "[6] epoch-loss: 91.595959946\n",
            "(7,     1) item-loss: 0.021385932\n",
            "(7,   101) item-loss: 0.036854234\n",
            "(7,   201) item-loss: 0.131408915\n",
            "(7,   301) item-loss: 0.030330218\n",
            "(7,   401) item-loss: 0.029528998\n",
            "(7,   501) item-loss: 0.033809349\n",
            "(7,   601) item-loss: 0.013914372\n",
            "(7,   701) item-loss: 0.031910453\n",
            "(7,   801) item-loss: 0.052057754\n",
            "(7,   901) item-loss: 0.042854846\n",
            "(7,  1001) item-loss: 0.025200753\n",
            "(7,  1101) item-loss: 0.088871554\n",
            "(7,  1201) item-loss: 0.036838725\n",
            "(7,  1301) item-loss: 0.074698903\n",
            "(7,  1401) item-loss: 0.041666403\n",
            "(7,  1501) item-loss: 0.049855441\n",
            "(7,  1601) item-loss: 0.090432145\n",
            "[7] epoch-loss: 85.618927753\n",
            "(8,     1) item-loss: 0.066968888\n",
            "(8,   101) item-loss: 0.025584243\n",
            "(8,   201) item-loss: 0.071718872\n",
            "(8,   301) item-loss: 0.086168699\n",
            "(8,   401) item-loss: 0.060169831\n",
            "(8,   501) item-loss: 0.052371901\n",
            "(8,   601) item-loss: 0.044190601\n",
            "(8,   701) item-loss: 0.027699292\n",
            "(8,   801) item-loss: 0.118200056\n",
            "(8,   901) item-loss: 0.038537066\n",
            "(8,  1001) item-loss: 0.075435452\n",
            "(8,  1101) item-loss: 0.048611309\n",
            "(8,  1201) item-loss: 0.031694513\n",
            "(8,  1301) item-loss: 0.059787307\n",
            "(8,  1401) item-loss: 0.041915856\n",
            "(8,  1501) item-loss: 0.054917581\n",
            "(8,  1601) item-loss: 0.107943758\n",
            "[8] epoch-loss: 81.704023807\n",
            "(9,     1) item-loss: 0.085871443\n",
            "(9,   101) item-loss: 0.025296472\n",
            "(9,   201) item-loss: 0.038512789\n",
            "(9,   301) item-loss: 0.033334285\n",
            "(9,   401) item-loss: 0.045457169\n",
            "(9,   501) item-loss: 0.010367036\n",
            "(9,   601) item-loss: 0.030042401\n",
            "(9,   701) item-loss: 0.028212642\n",
            "(9,   801) item-loss: 0.042507105\n",
            "(9,   901) item-loss: 0.024170659\n",
            "(9,  1001) item-loss: 0.040604219\n",
            "(9,  1101) item-loss: 0.127748743\n",
            "(9,  1201) item-loss: 0.173447192\n",
            "(9,  1301) item-loss: 0.085144177\n",
            "(9,  1401) item-loss: 0.008370192\n",
            "(9,  1501) item-loss: 0.031531941\n",
            "(9,  1601) item-loss: 0.121846572\n",
            "[9] epoch-loss: 80.969950602\n",
            "(10,     1) item-loss: 0.063141748\n",
            "(10,   101) item-loss: 0.037253119\n",
            "(10,   201) item-loss: 0.029212933\n",
            "(10,   301) item-loss: 0.055538893\n",
            "(10,   401) item-loss: 0.053493720\n",
            "(10,   501) item-loss: 0.024657730\n",
            "(10,   601) item-loss: 0.052900560\n",
            "(10,   701) item-loss: 0.004116302\n",
            "(10,   801) item-loss: 0.036051139\n",
            "(10,   901) item-loss: 0.019991875\n",
            "(10,  1001) item-loss: 0.025590001\n",
            "(10,  1101) item-loss: 0.012816842\n",
            "(10,  1201) item-loss: 0.022319777\n",
            "(10,  1301) item-loss: 0.046453495\n",
            "(10,  1401) item-loss: 0.029939651\n",
            "(10,  1501) item-loss: 0.027973125\n",
            "(10,  1601) item-loss: 0.020712640\n",
            "[10] epoch-loss: 75.632417189\n",
            "(11,     1) item-loss: 0.020476872\n",
            "(11,   101) item-loss: 0.030379638\n",
            "(11,   201) item-loss: 0.039027277\n",
            "(11,   301) item-loss: 0.081013747\n",
            "(11,   401) item-loss: 0.025206987\n",
            "(11,   501) item-loss: 0.057739053\n",
            "(11,   601) item-loss: 0.045025561\n",
            "(11,   701) item-loss: 0.043526240\n",
            "(11,   801) item-loss: 0.082385518\n",
            "(11,   901) item-loss: 0.090097204\n",
            "(11,  1001) item-loss: 0.050225142\n",
            "(11,  1101) item-loss: 0.077916563\n",
            "(11,  1201) item-loss: 0.038919032\n",
            "(11,  1301) item-loss: 0.032873675\n",
            "(11,  1401) item-loss: 0.030646488\n",
            "(11,  1501) item-loss: 0.012260788\n",
            "(11,  1601) item-loss: 0.031373531\n",
            "[11] epoch-loss: 75.614953760\n",
            "(12,     1) item-loss: 0.074800931\n",
            "(12,   101) item-loss: 0.031560268\n",
            "(12,   201) item-loss: 0.034023739\n",
            "(12,   301) item-loss: 0.033153746\n",
            "(12,   401) item-loss: 0.035037667\n",
            "(12,   501) item-loss: 0.038668383\n",
            "(12,   601) item-loss: 0.025276886\n",
            "(12,   701) item-loss: 0.056552105\n",
            "(12,   801) item-loss: 0.111230396\n",
            "(12,   901) item-loss: 0.016284052\n",
            "(12,  1001) item-loss: 0.045772452\n",
            "(12,  1101) item-loss: 0.035971615\n",
            "(12,  1201) item-loss: 0.035458185\n",
            "(12,  1301) item-loss: 0.039548706\n",
            "(12,  1401) item-loss: 0.051289666\n",
            "(12,  1501) item-loss: 0.022134606\n",
            "(12,  1601) item-loss: 0.009604977\n",
            "[12] epoch-loss: 72.364948809\n",
            "(13,     1) item-loss: 0.053695865\n",
            "(13,   101) item-loss: 0.138683558\n",
            "(13,   201) item-loss: 0.027345387\n",
            "(13,   301) item-loss: 0.047068421\n",
            "(13,   401) item-loss: 0.017339977\n",
            "(13,   501) item-loss: 0.078745678\n",
            "(13,   601) item-loss: 0.013043256\n",
            "(13,   701) item-loss: 0.017304458\n",
            "(13,   801) item-loss: 0.063085303\n",
            "(13,   901) item-loss: 0.027897874\n",
            "(13,  1001) item-loss: 0.106093511\n",
            "(13,  1101) item-loss: 0.061559893\n",
            "(13,  1201) item-loss: 0.063355975\n",
            "(13,  1301) item-loss: 0.033252653\n",
            "(13,  1401) item-loss: 0.017669830\n",
            "(13,  1501) item-loss: 0.059082415\n",
            "(13,  1601) item-loss: 0.023726596\n",
            "[13] epoch-loss: 70.627706826\n",
            "(14,     1) item-loss: 0.030432554\n",
            "(14,   101) item-loss: 0.032757372\n",
            "(14,   201) item-loss: 0.035755545\n",
            "(14,   301) item-loss: 0.046376564\n",
            "(14,   401) item-loss: 0.046035122\n",
            "(14,   501) item-loss: 0.026811896\n",
            "(14,   601) item-loss: 0.032076012\n",
            "(14,   701) item-loss: 0.016761236\n",
            "(14,   801) item-loss: 0.031277008\n",
            "(14,   901) item-loss: 0.067701034\n",
            "(14,  1001) item-loss: 0.029348908\n",
            "(14,  1101) item-loss: 0.015379104\n",
            "(14,  1201) item-loss: 0.014561042\n",
            "(14,  1301) item-loss: 0.016118659\n",
            "(14,  1401) item-loss: 0.008452071\n",
            "(14,  1501) item-loss: 0.029091543\n",
            "(14,  1601) item-loss: 0.076517776\n",
            "[14] epoch-loss: 70.800331352\n",
            "(15,     1) item-loss: 0.046805136\n",
            "(15,   101) item-loss: 0.027663251\n",
            "(15,   201) item-loss: 0.030149406\n",
            "(15,   301) item-loss: 0.075735405\n",
            "(15,   401) item-loss: 0.043053143\n",
            "(15,   501) item-loss: 0.059661578\n",
            "(15,   601) item-loss: 0.015101802\n",
            "(15,   701) item-loss: 0.011885110\n",
            "(15,   801) item-loss: 0.018486151\n",
            "(15,   901) item-loss: 0.027178297\n",
            "(15,  1001) item-loss: 0.055575274\n",
            "(15,  1101) item-loss: 0.035645418\n",
            "(15,  1201) item-loss: 0.030657146\n",
            "(15,  1301) item-loss: 0.037433591\n",
            "(15,  1401) item-loss: 0.032456946\n",
            "(15,  1501) item-loss: 0.049576323\n",
            "(15,  1601) item-loss: 0.011354198\n",
            "[15] epoch-loss: 69.014083605\n",
            "Finished Training\n"
          ],
          "name": "stdout"
        }
      ]
    },
    {
      "cell_type": "code",
      "metadata": {
        "id": "DodwfkUMFwLr",
        "colab_type": "code",
        "outputId": "db36aae5-f659-4f25-ba94-7d7e2c940af0",
        "colab": {
          "base_uri": "https://localhost:8080/",
          "height": 286
        }
      },
      "source": [
        "import matplotlib.pyplot as plt\n",
        "plt.plot(loss_history)"
      ],
      "execution_count": 0,
      "outputs": [
        {
          "output_type": "execute_result",
          "data": {
            "text/plain": [
              "[<matplotlib.lines.Line2D at 0x7fc053fec748>]"
            ]
          },
          "metadata": {
            "tags": []
          },
          "execution_count": 10
        },
        {
          "output_type": "display_data",
          "data": {
            "image/png": "[encoded data removed]",
            "text/plain": [
              "<Figure size 432x288 with 1 Axes>"
            ]
          },
          "metadata": {
            "tags": [],
            "needs_background": "light"
          }
        }
      ]
    },
    {
      "cell_type": "code",
      "metadata": {
        "id": "zt41Q_dnqXPw",
        "colab_type": "code",
        "outputId": "51a23767-fceb-4bf7-9882-7038d160fe07",
        "colab": {
          "base_uri": "https://localhost:8080/",
          "height": 179
        }
      },
      "source": [
        "import matplotlib.pyplot as plt\n",
        "import numpy as np\n",
        "from PIL import Image\n",
        "import torchvision\n",
        "\n",
        "def sigmoid(array):\n",
        "  return 1/(1+np.exp(-array))\n",
        "\n",
        "ns = 8\n",
        "for step, (patch, masks, _) in enumerate(test_loader):\n",
        "    patch = patch.to(device)\n",
        "    recon = [sigmoid(x.cpu().detach().numpy()) for x in net.reconstruct(patch, num_samples=ns)]\n",
        "    masks = masks.cpu().detach().numpy()\n",
        "    patch = patch.cpu().detach().numpy()\n",
        "    # print(masks.shape)\n",
        "    f = plt.figure()\n",
        "    f.add_subplot(1,5,1)\n",
        "    plt.imshow(patch[0][0],cmap='gray')\n",
        "    for i in range(4):\n",
        "      f.add_subplot(1,5,i+2)\n",
        "      plt.imshow(masks[0,i,:,:],cmap='gray')\n",
        "    \n",
        "    g = plt.figure()\n",
        "    for i in range(ns):\n",
        "      g.add_subplot(1,ns,i+1)\n",
        "      plt.imshow(recon[i][0][0],cmap='gray')\n",
        "\n",
        "    break\n"
      ],
      "execution_count": 0,
      "outputs": [
        {
          "output_type": "display_data",
          "data": {
            "image/png": "[encoded data removed]",
            "text/plain": [
              "<Figure size 432x288 with 5 Axes>"
            ]
          },
          "metadata": {
            "tags": [],
            "needs_background": "light"
          }
        },
        {
          "output_type": "display_data",
          "data": {
            "image/png": "[encoded data removed]",
            "text/plain": [
              "<Figure size 432x288 with 8 Axes>"
            ]
          },
          "metadata": {
            "tags": [],
            "needs_background": "light"
          }
        }
      ]
    },
    {
      "cell_type": "code",
      "metadata": {
        "id": "D9GNeTwAhiZo",
        "colab_type": "code",
        "colab": {}
      },
      "source": [
        "PATH = 'punet.pth'\n",
        "torch.save(net.state_dict(), PATH)"
      ],
      "execution_count": 0,
      "outputs": []
    },
    {
      "cell_type": "code",
      "metadata": {
        "id": "Eajp05kr5oyG",
        "colab_type": "code",
        "colab": {
          "base_uri": "https://localhost:8080/",
          "height": 34
        },
        "outputId": "028ffd64-92be-4555-c240-10504c24ebf3"
      },
      "source": [
        "import model\n",
        "PATH = 'punet.pth'\n",
        "net = model.ProbU_Net(in_channels=1, out_channels=1, latent_dim=6)\n",
        "net.load_state_dict(torch.load(PATH))"
      ],
      "execution_count": 7,
      "outputs": [
        {
          "output_type": "execute_result",
          "data": {
            "text/plain": [
              "<All keys matched successfully>"
            ]
          },
          "metadata": {
            "tags": []
          },
          "execution_count": 7
        }
      ]
    },
    {
      "cell_type": "code",
      "metadata": {
        "id": "IVziypPb6v90",
        "colab_type": "code",
        "colab": {
          "base_uri": "https://localhost:8080/",
          "height": 370
        },
        "outputId": "f2e13249-dcbd-484b-ffbe-bf049ee868f5"
      },
      "source": [
        "import matplotlib.pyplot as plt\n",
        "import numpy as np\n",
        "from PIL import Image\n",
        "import torchvision\n",
        "\n",
        "def sigmoid(array):\n",
        "  return 1/(1+np.exp(-array))\n",
        "\n",
        "ns = 8\n",
        "for step, (patch, masks, _) in enumerate(test_loader):\n",
        "    patch = patch.to(device)\n",
        "    recon = [sigmoid(x.cpu().detach().numpy()) for x in net.reconstruct(patch, num_samples=ns)]\n",
        "    masks = masks.cpu().detach().numpy()\n",
        "    patch = patch.cpu().detach().numpy()\n",
        "    # print(masks.shape)\n",
        "    f = plt.figure()\n",
        "    f.add_subplot(1,5,1)\n",
        "    plt.imshow(patch[0][0],cmap='gray')\n",
        "    for i in range(4):\n",
        "      f.add_subplot(1,5,i+2)\n",
        "      plt.imshow(masks[0,i,:,:],cmap='gray')\n",
        "    \n",
        "    g = plt.figure()\n",
        "    for i in range(ns):\n",
        "      g.add_subplot(1,ns,i+1)\n",
        "      plt.imshow(recon[i][0][0],cmap='gray')\n",
        "\n",
        "    break"
      ],
      "execution_count": 8,
      "outputs": [
        {
          "output_type": "error",
          "ename": "AttributeError",
          "evalue": "ignored",
          "traceback": [
            "\u001b[0;31m---------------------------------------------------------------------------\u001b[0m",
            "\u001b[0;31mAttributeError\u001b[0m                            Traceback (most recent call last)",
            "\u001b[0;32m<ipython-input-8-7961f952fab3>\u001b[0m in \u001b[0;36m<module>\u001b[0;34m()\u001b[0m\n\u001b[1;32m      8\u001b[0m \u001b[0;34m\u001b[0m\u001b[0m\n\u001b[1;32m      9\u001b[0m \u001b[0mns\u001b[0m \u001b[0;34m=\u001b[0m \u001b[0;36m8\u001b[0m\u001b[0;34m\u001b[0m\u001b[0;34m\u001b[0m\u001b[0m\n\u001b[0;32m---> 10\u001b[0;31m \u001b[0;32mfor\u001b[0m \u001b[0mstep\u001b[0m\u001b[0;34m,\u001b[0m \u001b[0;34m(\u001b[0m\u001b[0mpatch\u001b[0m\u001b[0;34m,\u001b[0m \u001b[0mmasks\u001b[0m\u001b[0;34m,\u001b[0m \u001b[0m_\u001b[0m\u001b[0;34m)\u001b[0m \u001b[0;32min\u001b[0m \u001b[0menumerate\u001b[0m\u001b[0;34m(\u001b[0m\u001b[0mtest_loader\u001b[0m\u001b[0;34m)\u001b[0m\u001b[0;34m:\u001b[0m\u001b[0;34m\u001b[0m\u001b[0;34m\u001b[0m\u001b[0m\n\u001b[0m\u001b[1;32m     11\u001b[0m     \u001b[0mpatch\u001b[0m \u001b[0;34m=\u001b[0m \u001b[0mpatch\u001b[0m\u001b[0;34m.\u001b[0m\u001b[0mto\u001b[0m\u001b[0;34m(\u001b[0m\u001b[0mdevice\u001b[0m\u001b[0;34m)\u001b[0m\u001b[0;34m\u001b[0m\u001b[0;34m\u001b[0m\u001b[0m\n\u001b[1;32m     12\u001b[0m     \u001b[0mrecon\u001b[0m \u001b[0;34m=\u001b[0m \u001b[0;34m[\u001b[0m\u001b[0msigmoid\u001b[0m\u001b[0;34m(\u001b[0m\u001b[0mx\u001b[0m\u001b[0;34m.\u001b[0m\u001b[0mcpu\u001b[0m\u001b[0;34m(\u001b[0m\u001b[0;34m)\u001b[0m\u001b[0;34m.\u001b[0m\u001b[0mdetach\u001b[0m\u001b[0;34m(\u001b[0m\u001b[0;34m)\u001b[0m\u001b[0;34m.\u001b[0m\u001b[0mnumpy\u001b[0m\u001b[0;34m(\u001b[0m\u001b[0;34m)\u001b[0m\u001b[0;34m)\u001b[0m \u001b[0;32mfor\u001b[0m \u001b[0mx\u001b[0m \u001b[0;32min\u001b[0m \u001b[0mnet\u001b[0m\u001b[0;34m.\u001b[0m\u001b[0mreconstruct\u001b[0m\u001b[0;34m(\u001b[0m\u001b[0mpatch\u001b[0m\u001b[0;34m,\u001b[0m \u001b[0mnum_samples\u001b[0m\u001b[0;34m=\u001b[0m\u001b[0mns\u001b[0m\u001b[0;34m)\u001b[0m\u001b[0;34m]\u001b[0m\u001b[0;34m\u001b[0m\u001b[0;34m\u001b[0m\u001b[0m\n",
            "\u001b[0;32m/usr/local/lib/python3.6/dist-packages/torch/utils/data/dataloader.py\u001b[0m in \u001b[0;36m__next__\u001b[0;34m(self)\u001b[0m\n\u001b[1;32m    343\u001b[0m \u001b[0;34m\u001b[0m\u001b[0m\n\u001b[1;32m    344\u001b[0m     \u001b[0;32mdef\u001b[0m \u001b[0m__next__\u001b[0m\u001b[0;34m(\u001b[0m\u001b[0mself\u001b[0m\u001b[0;34m)\u001b[0m\u001b[0;34m:\u001b[0m\u001b[0;34m\u001b[0m\u001b[0;34m\u001b[0m\u001b[0m\n\u001b[0;32m--> 345\u001b[0;31m         \u001b[0mdata\u001b[0m \u001b[0;34m=\u001b[0m \u001b[0mself\u001b[0m\u001b[0;34m.\u001b[0m\u001b[0m_next_data\u001b[0m\u001b[0;34m(\u001b[0m\u001b[0;34m)\u001b[0m\u001b[0;34m\u001b[0m\u001b[0;34m\u001b[0m\u001b[0m\n\u001b[0m\u001b[1;32m    346\u001b[0m         \u001b[0mself\u001b[0m\u001b[0;34m.\u001b[0m\u001b[0m_num_yielded\u001b[0m \u001b[0;34m+=\u001b[0m \u001b[0;36m1\u001b[0m\u001b[0;34m\u001b[0m\u001b[0;34m\u001b[0m\u001b[0m\n\u001b[1;32m    347\u001b[0m         \u001b[0;32mif\u001b[0m \u001b[0mself\u001b[0m\u001b[0;34m.\u001b[0m\u001b[0m_dataset_kind\u001b[0m \u001b[0;34m==\u001b[0m \u001b[0m_DatasetKind\u001b[0m\u001b[0;34m.\u001b[0m\u001b[0mIterable\u001b[0m \u001b[0;32mand\u001b[0m\u001b[0;31m \u001b[0m\u001b[0;31m\\\u001b[0m\u001b[0;34m\u001b[0m\u001b[0;34m\u001b[0m\u001b[0m\n",
            "\u001b[0;32m/usr/local/lib/python3.6/dist-packages/torch/utils/data/dataloader.py\u001b[0m in \u001b[0;36m_next_data\u001b[0;34m(self)\u001b[0m\n\u001b[1;32m    383\u001b[0m     \u001b[0;32mdef\u001b[0m \u001b[0m_next_data\u001b[0m\u001b[0;34m(\u001b[0m\u001b[0mself\u001b[0m\u001b[0;34m)\u001b[0m\u001b[0;34m:\u001b[0m\u001b[0;34m\u001b[0m\u001b[0;34m\u001b[0m\u001b[0m\n\u001b[1;32m    384\u001b[0m         \u001b[0mindex\u001b[0m \u001b[0;34m=\u001b[0m \u001b[0mself\u001b[0m\u001b[0;34m.\u001b[0m\u001b[0m_next_index\u001b[0m\u001b[0;34m(\u001b[0m\u001b[0;34m)\u001b[0m  \u001b[0;31m# may raise StopIteration\u001b[0m\u001b[0;34m\u001b[0m\u001b[0;34m\u001b[0m\u001b[0m\n\u001b[0;32m--> 385\u001b[0;31m         \u001b[0mdata\u001b[0m \u001b[0;34m=\u001b[0m \u001b[0mself\u001b[0m\u001b[0;34m.\u001b[0m\u001b[0m_dataset_fetcher\u001b[0m\u001b[0;34m.\u001b[0m\u001b[0mfetch\u001b[0m\u001b[0;34m(\u001b[0m\u001b[0mindex\u001b[0m\u001b[0;34m)\u001b[0m  \u001b[0;31m# may raise StopIteration\u001b[0m\u001b[0;34m\u001b[0m\u001b[0;34m\u001b[0m\u001b[0m\n\u001b[0m\u001b[1;32m    386\u001b[0m         \u001b[0;32mif\u001b[0m \u001b[0mself\u001b[0m\u001b[0;34m.\u001b[0m\u001b[0m_pin_memory\u001b[0m\u001b[0;34m:\u001b[0m\u001b[0;34m\u001b[0m\u001b[0;34m\u001b[0m\u001b[0m\n\u001b[1;32m    387\u001b[0m             \u001b[0mdata\u001b[0m \u001b[0;34m=\u001b[0m \u001b[0m_utils\u001b[0m\u001b[0;34m.\u001b[0m\u001b[0mpin_memory\u001b[0m\u001b[0;34m.\u001b[0m\u001b[0mpin_memory\u001b[0m\u001b[0;34m(\u001b[0m\u001b[0mdata\u001b[0m\u001b[0;34m)\u001b[0m\u001b[0;34m\u001b[0m\u001b[0;34m\u001b[0m\u001b[0m\n",
            "\u001b[0;32m/usr/local/lib/python3.6/dist-packages/torch/utils/data/_utils/fetch.py\u001b[0m in \u001b[0;36mfetch\u001b[0;34m(self, possibly_batched_index)\u001b[0m\n\u001b[1;32m     42\u001b[0m     \u001b[0;32mdef\u001b[0m \u001b[0mfetch\u001b[0m\u001b[0;34m(\u001b[0m\u001b[0mself\u001b[0m\u001b[0;34m,\u001b[0m \u001b[0mpossibly_batched_index\u001b[0m\u001b[0;34m)\u001b[0m\u001b[0;34m:\u001b[0m\u001b[0;34m\u001b[0m\u001b[0;34m\u001b[0m\u001b[0m\n\u001b[1;32m     43\u001b[0m         \u001b[0;32mif\u001b[0m \u001b[0mself\u001b[0m\u001b[0;34m.\u001b[0m\u001b[0mauto_collation\u001b[0m\u001b[0;34m:\u001b[0m\u001b[0;34m\u001b[0m\u001b[0;34m\u001b[0m\u001b[0m\n\u001b[0;32m---> 44\u001b[0;31m             \u001b[0mdata\u001b[0m \u001b[0;34m=\u001b[0m \u001b[0;34m[\u001b[0m\u001b[0mself\u001b[0m\u001b[0;34m.\u001b[0m\u001b[0mdataset\u001b[0m\u001b[0;34m[\u001b[0m\u001b[0midx\u001b[0m\u001b[0;34m]\u001b[0m \u001b[0;32mfor\u001b[0m \u001b[0midx\u001b[0m \u001b[0;32min\u001b[0m \u001b[0mpossibly_batched_index\u001b[0m\u001b[0;34m]\u001b[0m\u001b[0;34m\u001b[0m\u001b[0;34m\u001b[0m\u001b[0m\n\u001b[0m\u001b[1;32m     45\u001b[0m         \u001b[0;32melse\u001b[0m\u001b[0;34m:\u001b[0m\u001b[0;34m\u001b[0m\u001b[0;34m\u001b[0m\u001b[0m\n\u001b[1;32m     46\u001b[0m             \u001b[0mdata\u001b[0m \u001b[0;34m=\u001b[0m \u001b[0mself\u001b[0m\u001b[0;34m.\u001b[0m\u001b[0mdataset\u001b[0m\u001b[0;34m[\u001b[0m\u001b[0mpossibly_batched_index\u001b[0m\u001b[0;34m]\u001b[0m\u001b[0;34m\u001b[0m\u001b[0;34m\u001b[0m\u001b[0m\n",
            "\u001b[0;32m/usr/local/lib/python3.6/dist-packages/torch/utils/data/_utils/fetch.py\u001b[0m in \u001b[0;36m<listcomp>\u001b[0;34m(.0)\u001b[0m\n\u001b[1;32m     42\u001b[0m     \u001b[0;32mdef\u001b[0m \u001b[0mfetch\u001b[0m\u001b[0;34m(\u001b[0m\u001b[0mself\u001b[0m\u001b[0;34m,\u001b[0m \u001b[0mpossibly_batched_index\u001b[0m\u001b[0;34m)\u001b[0m\u001b[0;34m:\u001b[0m\u001b[0;34m\u001b[0m\u001b[0;34m\u001b[0m\u001b[0m\n\u001b[1;32m     43\u001b[0m         \u001b[0;32mif\u001b[0m \u001b[0mself\u001b[0m\u001b[0;34m.\u001b[0m\u001b[0mauto_collation\u001b[0m\u001b[0;34m:\u001b[0m\u001b[0;34m\u001b[0m\u001b[0;34m\u001b[0m\u001b[0m\n\u001b[0;32m---> 44\u001b[0;31m             \u001b[0mdata\u001b[0m \u001b[0;34m=\u001b[0m \u001b[0;34m[\u001b[0m\u001b[0mself\u001b[0m\u001b[0;34m.\u001b[0m\u001b[0mdataset\u001b[0m\u001b[0;34m[\u001b[0m\u001b[0midx\u001b[0m\u001b[0;34m]\u001b[0m \u001b[0;32mfor\u001b[0m \u001b[0midx\u001b[0m \u001b[0;32min\u001b[0m \u001b[0mpossibly_batched_index\u001b[0m\u001b[0;34m]\u001b[0m\u001b[0;34m\u001b[0m\u001b[0;34m\u001b[0m\u001b[0m\n\u001b[0m\u001b[1;32m     45\u001b[0m         \u001b[0;32melse\u001b[0m\u001b[0;34m:\u001b[0m\u001b[0;34m\u001b[0m\u001b[0;34m\u001b[0m\u001b[0m\n\u001b[1;32m     46\u001b[0m             \u001b[0mdata\u001b[0m \u001b[0;34m=\u001b[0m \u001b[0mself\u001b[0m\u001b[0;34m.\u001b[0m\u001b[0mdataset\u001b[0m\u001b[0;34m[\u001b[0m\u001b[0mpossibly_batched_index\u001b[0m\u001b[0;34m]\u001b[0m\u001b[0;34m\u001b[0m\u001b[0;34m\u001b[0m\u001b[0m\n",
            "\u001b[0;32m/content/load_LIDC_data.py\u001b[0m in \u001b[0;36m__getitem__\u001b[0;34m(self, index)\u001b[0m\n\u001b[1;32m     49\u001b[0m \u001b[0;34m\u001b[0m\u001b[0m\n\u001b[1;32m     50\u001b[0m         \u001b[0;31m#Randomly select one of the four labels for this image\u001b[0m\u001b[0;34m\u001b[0m\u001b[0;34m\u001b[0m\u001b[0;34m\u001b[0m\u001b[0m\n\u001b[0;32m---> 51\u001b[0;31m         \u001b[0mlabel\u001b[0m \u001b[0;34m=\u001b[0m \u001b[0mself\u001b[0m\u001b[0;34m.\u001b[0m\u001b[0mlabels\u001b[0m\u001b[0;34m[\u001b[0m\u001b[0mindex\u001b[0m\u001b[0;34m]\u001b[0m\u001b[0;34m.\u001b[0m\u001b[0mastype\u001b[0m\u001b[0;34m(\u001b[0m\u001b[0mfloat\u001b[0m\u001b[0;34m)\u001b[0m\u001b[0;34m\u001b[0m\u001b[0;34m\u001b[0m\u001b[0m\n\u001b[0m\u001b[1;32m     52\u001b[0m         \u001b[0;32mif\u001b[0m \u001b[0mself\u001b[0m\u001b[0;34m.\u001b[0m\u001b[0mtraining\u001b[0m\u001b[0;34m:\u001b[0m\u001b[0;34m\u001b[0m\u001b[0;34m\u001b[0m\u001b[0m\n\u001b[1;32m     53\u001b[0m             \u001b[0mlabel\u001b[0m \u001b[0;34m=\u001b[0m \u001b[0mlabel\u001b[0m\u001b[0;34m[\u001b[0m\u001b[0mrandom\u001b[0m\u001b[0;34m.\u001b[0m\u001b[0mrandint\u001b[0m\u001b[0;34m(\u001b[0m\u001b[0;36m0\u001b[0m\u001b[0;34m,\u001b[0m\u001b[0;36m3\u001b[0m\u001b[0;34m)\u001b[0m\u001b[0;34m]\u001b[0m\u001b[0;34m\u001b[0m\u001b[0;34m\u001b[0m\u001b[0m\n",
            "\u001b[0;31mAttributeError\u001b[0m: 'list' object has no attribute 'astype'"
          ]
        }
      ]
    }
  ]
}